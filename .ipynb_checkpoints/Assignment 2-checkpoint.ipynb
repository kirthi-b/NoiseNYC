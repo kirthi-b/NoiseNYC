{
 "cells": [
  {
   "cell_type": "markdown",
   "id": "f4d97f53",
   "metadata": {},
   "source": [
    "# Assignment02. Bigger data and communications\n",
    "\n",
    "## Load the NYC 311 Data as a JSON API"
   ]
  },
  {
   "cell_type": "code",
   "execution_count": 1,
   "id": "5c334740",
   "metadata": {},
   "outputs": [],
   "source": [
    "# To ignore unimporant system warnings\n",
    "import warnings\n",
    "warnings.filterwarnings(\"ignore\")\n",
    "\n",
    "# We will use Pandas, Numpy, and Matplotlib which is a package for visualization with Python\n",
    "import pandas as pd\n",
    "import numpy as np\n",
    "\n",
    "# Load a required package \n",
    "# This is a library for accessing and parsing data through URLs\n",
    "from urllib.parse import urlencode\n",
    "import urllib.request, json \n",
    "from bs4 import BeautifulSoup # for web scraping\n",
    "import fiona\n",
    "import plotly.express as px\n",
    "import geopandas as gpd\n",
    "import seaborn as sns # visualization styling package\n",
    "\n",
    "\n",
    "# A magic functin that renders the figure in a notebook \n",
    "%matplotlib inline "
   ]
  },
  {
   "cell_type": "code",
   "execution_count": 2,
   "id": "4ae6e3a6",
   "metadata": {},
   "outputs": [],
   "source": [
    "API = 'https://data.cityofnewyork.us/resource/erm2-nwe9.csv?'\n",
    "# https://data.cityofnewyork.us/resource/erm2-nwe9.json"
   ]
  },
  {
   "cell_type": "markdown",
   "id": "3d8d3986",
   "metadata": {},
   "source": [
    "## Query the Noise Data"
   ]
  },
  {
   "cell_type": "code",
   "execution_count": 3,
   "id": "542c904a",
   "metadata": {},
   "outputs": [
    {
     "data": {
      "text/html": [
       "<div>\n",
       "<style scoped>\n",
       "    .dataframe tbody tr th:only-of-type {\n",
       "        vertical-align: middle;\n",
       "    }\n",
       "\n",
       "    .dataframe tbody tr th {\n",
       "        vertical-align: top;\n",
       "    }\n",
       "\n",
       "    .dataframe thead th {\n",
       "        text-align: right;\n",
       "    }\n",
       "</style>\n",
       "<table border=\"1\" class=\"dataframe\">\n",
       "  <thead>\n",
       "    <tr style=\"text-align: right;\">\n",
       "      <th></th>\n",
       "      <th>created_date</th>\n",
       "      <th>complaint_type</th>\n",
       "      <th>resolution_description</th>\n",
       "      <th>incident_zip</th>\n",
       "      <th>borough</th>\n",
       "      <th>latitude</th>\n",
       "      <th>longitude</th>\n",
       "    </tr>\n",
       "  </thead>\n",
       "  <tbody>\n",
       "    <tr>\n",
       "      <th>0</th>\n",
       "      <td>2010-01-01 00:03:46</td>\n",
       "      <td>Noise - Residential</td>\n",
       "      <td>The Police Department responded to the complai...</td>\n",
       "      <td>11230</td>\n",
       "      <td>BROOKLYN</td>\n",
       "      <td>40.612155</td>\n",
       "      <td>-73.955036</td>\n",
       "    </tr>\n",
       "    <tr>\n",
       "      <th>1</th>\n",
       "      <td>2010-01-01 00:08:02</td>\n",
       "      <td>Noise - Residential</td>\n",
       "      <td>The Police Department responded to the complai...</td>\n",
       "      <td>11220</td>\n",
       "      <td>BROOKLYN</td>\n",
       "      <td>40.635708</td>\n",
       "      <td>-74.006853</td>\n",
       "    </tr>\n",
       "    <tr>\n",
       "      <th>2</th>\n",
       "      <td>2010-01-01 00:08:29</td>\n",
       "      <td>Noise - Residential</td>\n",
       "      <td>The Police Department responded to the complai...</td>\n",
       "      <td>10036</td>\n",
       "      <td>MANHATTAN</td>\n",
       "      <td>40.759486</td>\n",
       "      <td>-73.989135</td>\n",
       "    </tr>\n",
       "    <tr>\n",
       "      <th>3</th>\n",
       "      <td>2010-01-01 00:08:30</td>\n",
       "      <td>Noise - Residential</td>\n",
       "      <td>The Police Department responded to the complai...</td>\n",
       "      <td>10303</td>\n",
       "      <td>STATEN ISLAND</td>\n",
       "      <td>40.634762</td>\n",
       "      <td>-74.169727</td>\n",
       "    </tr>\n",
       "    <tr>\n",
       "      <th>4</th>\n",
       "      <td>2010-01-01 00:15:08</td>\n",
       "      <td>Noise - Residential</td>\n",
       "      <td>The Police Department responded to the complai...</td>\n",
       "      <td>11355</td>\n",
       "      <td>QUEENS</td>\n",
       "      <td>40.755060</td>\n",
       "      <td>-73.832251</td>\n",
       "    </tr>\n",
       "  </tbody>\n",
       "</table>\n",
       "</div>"
      ],
      "text/plain": [
       "         created_date       complaint_type  \\\n",
       "0 2010-01-01 00:03:46  Noise - Residential   \n",
       "1 2010-01-01 00:08:02  Noise - Residential   \n",
       "2 2010-01-01 00:08:29  Noise - Residential   \n",
       "3 2010-01-01 00:08:30  Noise - Residential   \n",
       "4 2010-01-01 00:15:08  Noise - Residential   \n",
       "\n",
       "                              resolution_description incident_zip  \\\n",
       "0  The Police Department responded to the complai...        11230   \n",
       "1  The Police Department responded to the complai...        11220   \n",
       "2  The Police Department responded to the complai...        10036   \n",
       "3  The Police Department responded to the complai...        10303   \n",
       "4  The Police Department responded to the complai...        11355   \n",
       "\n",
       "         borough   latitude  longitude  \n",
       "0       BROOKLYN  40.612155 -73.955036  \n",
       "1       BROOKLYN  40.635708 -74.006853  \n",
       "2      MANHATTAN  40.759486 -73.989135  \n",
       "3  STATEN ISLAND  40.634762 -74.169727  \n",
       "4         QUEENS  40.755060 -73.832251  "
      ]
     },
     "execution_count": 3,
     "metadata": {},
     "output_type": "execute_result"
    }
   ],
   "source": [
    "query = {'$select': 'created_date, complaint_type, resolution_description, incident_zip, borough, latitude, longitude',\n",
    "         '$where': 'complaint_type=\"Noise\" OR complaint_type=\"Noise - Residential\" OR complaint_type=\"Noise - Street/Sidewalk\" OR complaint_type=\"Noise - Vehicle\" OR complaint_type=\"Noise - Commercial\" OR complaint_type=\"Noise - Park\" OR complaint_type=\"Noise - House of Worship\" AND status=\"Closed\"',\n",
    "         '$order': 'created_date',\n",
    "         '$limit': 300000000} \n",
    "\n",
    "df = pd.read_csv(API + urlencode(query),\n",
    "                 parse_dates = ['created_date'],\n",
    "                 dtype = {'incident_zip':'str'})\n",
    "df.head()"
   ]
  },
  {
   "cell_type": "markdown",
   "id": "561ff46e",
   "metadata": {},
   "source": [
    "## Convert the JSON data to Pandas DataFrame"
   ]
  },
  {
   "cell_type": "code",
   "execution_count": 4,
   "id": "4fed47b4",
   "metadata": {
    "scrolled": true
   },
   "outputs": [
    {
     "data": {
      "text/plain": [
       "4802218"
      ]
     },
     "execution_count": 4,
     "metadata": {},
     "output_type": "execute_result"
    }
   ],
   "source": [
    "df.shape[0]"
   ]
  },
  {
   "cell_type": "code",
   "execution_count": 5,
   "id": "8a848410",
   "metadata": {
    "scrolled": false
   },
   "outputs": [
    {
     "data": {
      "text/plain": [
       "created_date              datetime64[ns]\n",
       "complaint_type                    object\n",
       "resolution_description            object\n",
       "incident_zip                      object\n",
       "borough                           object\n",
       "latitude                         float64\n",
       "longitude                        float64\n",
       "dtype: object"
      ]
     },
     "execution_count": 5,
     "metadata": {},
     "output_type": "execute_result"
    }
   ],
   "source": [
    "df.dtypes"
   ]
  },
  {
   "cell_type": "code",
   "execution_count": 6,
   "id": "ed473b9b",
   "metadata": {},
   "outputs": [
    {
     "data": {
      "text/html": [
       "<div>\n",
       "<style scoped>\n",
       "    .dataframe tbody tr th:only-of-type {\n",
       "        vertical-align: middle;\n",
       "    }\n",
       "\n",
       "    .dataframe tbody tr th {\n",
       "        vertical-align: top;\n",
       "    }\n",
       "\n",
       "    .dataframe thead th {\n",
       "        text-align: right;\n",
       "    }\n",
       "</style>\n",
       "<table border=\"1\" class=\"dataframe\">\n",
       "  <thead>\n",
       "    <tr style=\"text-align: right;\">\n",
       "      <th></th>\n",
       "      <th>Date</th>\n",
       "      <th>Complaint</th>\n",
       "      <th>Resolution</th>\n",
       "      <th>Zipcode</th>\n",
       "      <th>Borough</th>\n",
       "      <th>latitude</th>\n",
       "      <th>longitude</th>\n",
       "    </tr>\n",
       "  </thead>\n",
       "  <tbody>\n",
       "    <tr>\n",
       "      <th>0</th>\n",
       "      <td>2010-01-01 00:03:46</td>\n",
       "      <td>Residential</td>\n",
       "      <td>The Police Department responded to the complai...</td>\n",
       "      <td>11230</td>\n",
       "      <td>BROOKLYN</td>\n",
       "      <td>40.612155</td>\n",
       "      <td>-73.955036</td>\n",
       "    </tr>\n",
       "    <tr>\n",
       "      <th>1</th>\n",
       "      <td>2010-01-01 00:08:02</td>\n",
       "      <td>Residential</td>\n",
       "      <td>The Police Department responded to the complai...</td>\n",
       "      <td>11220</td>\n",
       "      <td>BROOKLYN</td>\n",
       "      <td>40.635708</td>\n",
       "      <td>-74.006853</td>\n",
       "    </tr>\n",
       "    <tr>\n",
       "      <th>2</th>\n",
       "      <td>2010-01-01 00:08:29</td>\n",
       "      <td>Residential</td>\n",
       "      <td>The Police Department responded to the complai...</td>\n",
       "      <td>10036</td>\n",
       "      <td>MANHATTAN</td>\n",
       "      <td>40.759486</td>\n",
       "      <td>-73.989135</td>\n",
       "    </tr>\n",
       "    <tr>\n",
       "      <th>3</th>\n",
       "      <td>2010-01-01 00:08:30</td>\n",
       "      <td>Residential</td>\n",
       "      <td>The Police Department responded to the complai...</td>\n",
       "      <td>10303</td>\n",
       "      <td>STATEN ISLAND</td>\n",
       "      <td>40.634762</td>\n",
       "      <td>-74.169727</td>\n",
       "    </tr>\n",
       "    <tr>\n",
       "      <th>4</th>\n",
       "      <td>2010-01-01 00:15:08</td>\n",
       "      <td>Residential</td>\n",
       "      <td>The Police Department responded to the complai...</td>\n",
       "      <td>11355</td>\n",
       "      <td>QUEENS</td>\n",
       "      <td>40.755060</td>\n",
       "      <td>-73.832251</td>\n",
       "    </tr>\n",
       "  </tbody>\n",
       "</table>\n",
       "</div>"
      ],
      "text/plain": [
       "                 Date     Complaint  \\\n",
       "0 2010-01-01 00:03:46   Residential   \n",
       "1 2010-01-01 00:08:02   Residential   \n",
       "2 2010-01-01 00:08:29   Residential   \n",
       "3 2010-01-01 00:08:30   Residential   \n",
       "4 2010-01-01 00:15:08   Residential   \n",
       "\n",
       "                                          Resolution Zipcode        Borough  \\\n",
       "0  The Police Department responded to the complai...   11230       BROOKLYN   \n",
       "1  The Police Department responded to the complai...   11220       BROOKLYN   \n",
       "2  The Police Department responded to the complai...   10036      MANHATTAN   \n",
       "3  The Police Department responded to the complai...   10303  STATEN ISLAND   \n",
       "4  The Police Department responded to the complai...   11355         QUEENS   \n",
       "\n",
       "    latitude  longitude  \n",
       "0  40.612155 -73.955036  \n",
       "1  40.635708 -74.006853  \n",
       "2  40.759486 -73.989135  \n",
       "3  40.634762 -74.169727  \n",
       "4  40.755060 -73.832251  "
      ]
     },
     "execution_count": 6,
     "metadata": {},
     "output_type": "execute_result"
    }
   ],
   "source": [
    "df = df.rename(columns={\"created_date\": \"Date\", \"complaint_type\": \"Complaint\", \"resolution_description\":\"Resolution\", \"incident_zip\": \"Zipcode\", \"borough\":\"Borough\"})\n",
    "df[\"Complaint\"] = df[\"Complaint\"].str.replace(\"Noise -\", \"\")\n",
    "df.head()"
   ]
  },
  {
   "cell_type": "markdown",
   "id": "4c1717c6",
   "metadata": {},
   "source": [
    "## Drop Empty Values"
   ]
  },
  {
   "cell_type": "code",
   "execution_count": 7,
   "id": "fa9d5738",
   "metadata": {},
   "outputs": [
    {
     "data": {
      "text/plain": [
       "array(['BROOKLYN', 'MANHATTAN', 'STATEN ISLAND', 'QUEENS', 'BRONX',\n",
       "       'Unspecified', nan], dtype=object)"
      ]
     },
     "execution_count": 7,
     "metadata": {},
     "output_type": "execute_result"
    }
   ],
   "source": [
    "df.Borough.unique()"
   ]
  },
  {
   "cell_type": "code",
   "execution_count": 8,
   "id": "2db67a1c",
   "metadata": {},
   "outputs": [
    {
     "data": {
      "text/plain": [
       "array(['11230', '11220', '10036', '10303', '11355', '10014', '10453',\n",
       "       '10011', '10473', '11218', '11215', '10463', '10310', '11233',\n",
       "       '10301', '11219', '11434', '11234', '10025', '11209', '10466',\n",
       "       '11203', '10451', '10023', '11373', '11377', '10304', '10029',\n",
       "       '11206', '11354', '11372', '11375', '11369', '10459', '10013',\n",
       "       '10312', '11208', '11211', '11231', '11221', '10028', '10452',\n",
       "       '10454', '11374', '10458', '11420', '10306', '10003', '10027',\n",
       "       '10031', '10456', '11224', '11201', '11415', '10032', '11238',\n",
       "       '11358', '11104', '10033', '11217', '11421', '10035', '10019',\n",
       "       '10460', '11210', '10075', '11385', '11226', '11213', '11207',\n",
       "       '11426', '11225', '11212', '10034', '10001', '11106', '10030',\n",
       "       '10472', '11435', '11368', '10462', '11102', '11691', '10002',\n",
       "       '11222', '10467', '10040', '10455', '11223', '10302', '11236',\n",
       "       '10469', '11423', '10009', '10457', '11204', '10012', '11694',\n",
       "       '11237', '11216', '11214', '10024', '11103', '11229', '11205',\n",
       "       '11379', '10039', '11433', '11418', '11432', '11361', '10468',\n",
       "       '11101', '10065', '11419', '10465', '10026', '11364', '10037',\n",
       "       '11367', '10307', '11422', '11365', '11105', '10016', '10471',\n",
       "       '11412', '11370', '10314', '10038', '10021', '10128', '11357',\n",
       "       '11228', '10010', '10475', '11004', '11235', '10470', nan, '11411',\n",
       "       '10069', '10309', '11413', '10461', '11378', '11429', '11416',\n",
       "       '11427', '11436', '10022', '11428', '11232', '10305', '11693',\n",
       "       '10005', '10017', '10018', '10006', '11360', '10280', '11109',\n",
       "       '10474', '11249', '10464', '11414', '11239', '10007', '11417',\n",
       "       '10308', '11356', '11362', '11692', '11366', '10004', '10281',\n",
       "       '10020', '11001', '11363', '10000', '10044', '10282', '11005',\n",
       "       '10119', '10162', '11697', '10048', '11040', '11430', '10153',\n",
       "       '10118', '11371', '10041', '11243', '10278', '10106', '10103',\n",
       "       '10112', '10174', '10129', '10107', '10111', '10803', '11242',\n",
       "       '10271', '00083', '10169', '11241', '10275', '10123', '10279',\n",
       "       '10121', '10177', '10045', '10120', '11359', '10170', '10178',\n",
       "       '10583', '10165', '10158', '10176', '10173', '10110', '10122',\n",
       "       '11096', '10105', '10155', '10171', '10172', '10168', '10167',\n",
       "       '11695', '12345', '10154', '10152', '10115', '11251', '10166'],\n",
       "      dtype=object)"
      ]
     },
     "execution_count": 8,
     "metadata": {},
     "output_type": "execute_result"
    }
   ],
   "source": [
    "df.Zipcode.unique()"
   ]
  },
  {
   "cell_type": "code",
   "execution_count": 9,
   "id": "c9877080",
   "metadata": {},
   "outputs": [],
   "source": [
    "df['Borough'].replace('', np.nan, inplace=True)\n",
    "df['Borough'].replace('Unspecified', np.nan, inplace=True)\n",
    "df.dropna(subset=['Borough'], inplace=True)"
   ]
  },
  {
   "cell_type": "code",
   "execution_count": 10,
   "id": "2921db34",
   "metadata": {},
   "outputs": [],
   "source": [
    "df['Zipcode'].replace('', np.nan, inplace=True)\n",
    "df.dropna(subset=['Zipcode'], inplace=True)"
   ]
  },
  {
   "cell_type": "code",
   "execution_count": 11,
   "id": "5d810199",
   "metadata": {},
   "outputs": [
    {
     "data": {
      "text/plain": [
       "4789704"
      ]
     },
     "execution_count": 11,
     "metadata": {},
     "output_type": "execute_result"
    }
   ],
   "source": [
    "df.shape[0]"
   ]
  },
  {
   "cell_type": "markdown",
   "id": "58f6eb12",
   "metadata": {},
   "source": [
    "## View the Number of Complaints by Zipcode"
   ]
  },
  {
   "cell_type": "code",
   "execution_count": 13,
   "id": "a2af1cf1",
   "metadata": {},
   "outputs": [
    {
     "data": {
      "text/html": [
       "<div>\n",
       "<style scoped>\n",
       "    .dataframe tbody tr th:only-of-type {\n",
       "        vertical-align: middle;\n",
       "    }\n",
       "\n",
       "    .dataframe tbody tr th {\n",
       "        vertical-align: top;\n",
       "    }\n",
       "\n",
       "    .dataframe thead th {\n",
       "        text-align: right;\n",
       "    }\n",
       "</style>\n",
       "<table border=\"1\" class=\"dataframe\">\n",
       "  <thead>\n",
       "    <tr style=\"text-align: right;\">\n",
       "      <th></th>\n",
       "      <th>ZIPCODE</th>\n",
       "      <th>Complaint_Count</th>\n",
       "    </tr>\n",
       "  </thead>\n",
       "  <tbody>\n",
       "    <tr>\n",
       "      <th>0</th>\n",
       "      <td>10466</td>\n",
       "      <td>141795</td>\n",
       "    </tr>\n",
       "    <tr>\n",
       "      <th>1</th>\n",
       "      <td>10031</td>\n",
       "      <td>90140</td>\n",
       "    </tr>\n",
       "    <tr>\n",
       "      <th>2</th>\n",
       "      <td>11226</td>\n",
       "      <td>88550</td>\n",
       "    </tr>\n",
       "    <tr>\n",
       "      <th>3</th>\n",
       "      <td>10032</td>\n",
       "      <td>82163</td>\n",
       "    </tr>\n",
       "    <tr>\n",
       "      <th>4</th>\n",
       "      <td>10034</td>\n",
       "      <td>78926</td>\n",
       "    </tr>\n",
       "  </tbody>\n",
       "</table>\n",
       "</div>"
      ],
      "text/plain": [
       "  ZIPCODE  Complaint_Count\n",
       "0   10466           141795\n",
       "1   10031            90140\n",
       "2   11226            88550\n",
       "3   10032            82163\n",
       "4   10034            78926"
      ]
     },
     "execution_count": 13,
     "metadata": {},
     "output_type": "execute_result"
    }
   ],
   "source": [
    "complaints_by_zip = df['Zipcode'].value_counts().to_frame('nc_freq')\n",
    "complaints_by_zip = pd.DataFrame(complaints_by_zip).reset_index()\n",
    "complaints_by_zip.columns = ['ZIPCODE', 'Complaint_Count']\n",
    "complaints_by_zip.head()"
   ]
  },
  {
   "cell_type": "markdown",
   "id": "bbea6dda",
   "metadata": {},
   "source": [
    "## Read Zipcode Geometry Shapefile as GeoDataFrame"
   ]
  },
  {
   "cell_type": "code",
   "execution_count": 14,
   "id": "8941f8bf",
   "metadata": {},
   "outputs": [
    {
     "data": {
      "text/html": [
       "<div>\n",
       "<style scoped>\n",
       "    .dataframe tbody tr th:only-of-type {\n",
       "        vertical-align: middle;\n",
       "    }\n",
       "\n",
       "    .dataframe tbody tr th {\n",
       "        vertical-align: top;\n",
       "    }\n",
       "\n",
       "    .dataframe thead th {\n",
       "        text-align: right;\n",
       "    }\n",
       "</style>\n",
       "<table border=\"1\" class=\"dataframe\">\n",
       "  <thead>\n",
       "    <tr style=\"text-align: right;\">\n",
       "      <th></th>\n",
       "      <th>ZIPCODE</th>\n",
       "      <th>BLDGZIP</th>\n",
       "      <th>PO_NAME</th>\n",
       "      <th>POPULATION</th>\n",
       "      <th>AREA</th>\n",
       "      <th>STATE</th>\n",
       "      <th>COUNTY</th>\n",
       "      <th>ST_FIPS</th>\n",
       "      <th>CTY_FIPS</th>\n",
       "      <th>URL</th>\n",
       "      <th>SHAPE_AREA</th>\n",
       "      <th>SHAPE_LEN</th>\n",
       "      <th>geometry</th>\n",
       "    </tr>\n",
       "  </thead>\n",
       "  <tbody>\n",
       "    <tr>\n",
       "      <th>0</th>\n",
       "      <td>11436</td>\n",
       "      <td>0</td>\n",
       "      <td>Jamaica</td>\n",
       "      <td>18681.0</td>\n",
       "      <td>2.269930e+07</td>\n",
       "      <td>NY</td>\n",
       "      <td>Queens</td>\n",
       "      <td>36</td>\n",
       "      <td>081</td>\n",
       "      <td>http://www.usps.com/</td>\n",
       "      <td>0.0</td>\n",
       "      <td>0.0</td>\n",
       "      <td>POLYGON ((1038098.252 188138.380, 1038141.936 ...</td>\n",
       "    </tr>\n",
       "    <tr>\n",
       "      <th>1</th>\n",
       "      <td>11213</td>\n",
       "      <td>0</td>\n",
       "      <td>Brooklyn</td>\n",
       "      <td>62426.0</td>\n",
       "      <td>2.963100e+07</td>\n",
       "      <td>NY</td>\n",
       "      <td>Kings</td>\n",
       "      <td>36</td>\n",
       "      <td>047</td>\n",
       "      <td>http://www.usps.com/</td>\n",
       "      <td>0.0</td>\n",
       "      <td>0.0</td>\n",
       "      <td>POLYGON ((1001613.713 186926.440, 1002314.243 ...</td>\n",
       "    </tr>\n",
       "    <tr>\n",
       "      <th>2</th>\n",
       "      <td>11212</td>\n",
       "      <td>0</td>\n",
       "      <td>Brooklyn</td>\n",
       "      <td>83866.0</td>\n",
       "      <td>4.197210e+07</td>\n",
       "      <td>NY</td>\n",
       "      <td>Kings</td>\n",
       "      <td>36</td>\n",
       "      <td>047</td>\n",
       "      <td>http://www.usps.com/</td>\n",
       "      <td>0.0</td>\n",
       "      <td>0.0</td>\n",
       "      <td>POLYGON ((1011174.276 183696.338, 1011373.584 ...</td>\n",
       "    </tr>\n",
       "    <tr>\n",
       "      <th>3</th>\n",
       "      <td>11225</td>\n",
       "      <td>0</td>\n",
       "      <td>Brooklyn</td>\n",
       "      <td>56527.0</td>\n",
       "      <td>2.369863e+07</td>\n",
       "      <td>NY</td>\n",
       "      <td>Kings</td>\n",
       "      <td>36</td>\n",
       "      <td>047</td>\n",
       "      <td>http://www.usps.com/</td>\n",
       "      <td>0.0</td>\n",
       "      <td>0.0</td>\n",
       "      <td>POLYGON ((995908.365 183617.613, 996522.848 18...</td>\n",
       "    </tr>\n",
       "    <tr>\n",
       "      <th>4</th>\n",
       "      <td>11218</td>\n",
       "      <td>0</td>\n",
       "      <td>Brooklyn</td>\n",
       "      <td>72280.0</td>\n",
       "      <td>3.686880e+07</td>\n",
       "      <td>NY</td>\n",
       "      <td>Kings</td>\n",
       "      <td>36</td>\n",
       "      <td>047</td>\n",
       "      <td>http://www.usps.com/</td>\n",
       "      <td>0.0</td>\n",
       "      <td>0.0</td>\n",
       "      <td>POLYGON ((991997.113 176307.496, 992042.798 17...</td>\n",
       "    </tr>\n",
       "  </tbody>\n",
       "</table>\n",
       "</div>"
      ],
      "text/plain": [
       "  ZIPCODE BLDGZIP   PO_NAME  POPULATION          AREA STATE  COUNTY ST_FIPS  \\\n",
       "0   11436       0   Jamaica     18681.0  2.269930e+07    NY  Queens      36   \n",
       "1   11213       0  Brooklyn     62426.0  2.963100e+07    NY   Kings      36   \n",
       "2   11212       0  Brooklyn     83866.0  4.197210e+07    NY   Kings      36   \n",
       "3   11225       0  Brooklyn     56527.0  2.369863e+07    NY   Kings      36   \n",
       "4   11218       0  Brooklyn     72280.0  3.686880e+07    NY   Kings      36   \n",
       "\n",
       "  CTY_FIPS                   URL  SHAPE_AREA  SHAPE_LEN  \\\n",
       "0      081  http://www.usps.com/         0.0        0.0   \n",
       "1      047  http://www.usps.com/         0.0        0.0   \n",
       "2      047  http://www.usps.com/         0.0        0.0   \n",
       "3      047  http://www.usps.com/         0.0        0.0   \n",
       "4      047  http://www.usps.com/         0.0        0.0   \n",
       "\n",
       "                                            geometry  \n",
       "0  POLYGON ((1038098.252 188138.380, 1038141.936 ...  \n",
       "1  POLYGON ((1001613.713 186926.440, 1002314.243 ...  \n",
       "2  POLYGON ((1011174.276 183696.338, 1011373.584 ...  \n",
       "3  POLYGON ((995908.365 183617.613, 996522.848 18...  \n",
       "4  POLYGON ((991997.113 176307.496, 992042.798 17...  "
      ]
     },
     "execution_count": 14,
     "metadata": {},
     "output_type": "execute_result"
    }
   ],
   "source": [
    "gdf = gpd.read_file(\"G:/My Drive/GSAPP/1 Fall 21/Urban Informatics/Assignments/2/ZIP_CODE_040114\", driver = \"shapefile\")\n",
    "gdf.head()"
   ]
  },
  {
   "cell_type": "code",
   "execution_count": 15,
   "id": "d27686e9",
   "metadata": {},
   "outputs": [
    {
     "data": {
      "text/plain": [
       "ZIPCODE         object\n",
       "BLDGZIP         object\n",
       "PO_NAME         object\n",
       "POPULATION     float64\n",
       "AREA           float64\n",
       "STATE           object\n",
       "COUNTY          object\n",
       "ST_FIPS         object\n",
       "CTY_FIPS        object\n",
       "URL             object\n",
       "SHAPE_AREA     float64\n",
       "SHAPE_LEN      float64\n",
       "geometry      geometry\n",
       "dtype: object"
      ]
     },
     "execution_count": 15,
     "metadata": {},
     "output_type": "execute_result"
    }
   ],
   "source": [
    "gdf.dtypes"
   ]
  },
  {
   "cell_type": "code",
   "execution_count": 16,
   "id": "c05f1499",
   "metadata": {
    "scrolled": false
   },
   "outputs": [
    {
     "data": {
      "text/html": [
       "<div>\n",
       "<style scoped>\n",
       "    .dataframe tbody tr th:only-of-type {\n",
       "        vertical-align: middle;\n",
       "    }\n",
       "\n",
       "    .dataframe tbody tr th {\n",
       "        vertical-align: top;\n",
       "    }\n",
       "\n",
       "    .dataframe thead th {\n",
       "        text-align: right;\n",
       "    }\n",
       "</style>\n",
       "<table border=\"1\" class=\"dataframe\">\n",
       "  <thead>\n",
       "    <tr style=\"text-align: right;\">\n",
       "      <th></th>\n",
       "      <th>ZIPCODE</th>\n",
       "      <th>BLDGZIP</th>\n",
       "      <th>PO_NAME</th>\n",
       "      <th>POPULATION</th>\n",
       "      <th>AREA</th>\n",
       "      <th>STATE</th>\n",
       "      <th>COUNTY</th>\n",
       "      <th>ST_FIPS</th>\n",
       "      <th>CTY_FIPS</th>\n",
       "      <th>URL</th>\n",
       "      <th>SHAPE_AREA</th>\n",
       "      <th>SHAPE_LEN</th>\n",
       "      <th>geometry</th>\n",
       "      <th>Complaint_Count</th>\n",
       "    </tr>\n",
       "  </thead>\n",
       "  <tbody>\n",
       "    <tr>\n",
       "      <th>0</th>\n",
       "      <td>11436</td>\n",
       "      <td>0</td>\n",
       "      <td>Jamaica</td>\n",
       "      <td>18681.0</td>\n",
       "      <td>2.269930e+07</td>\n",
       "      <td>NY</td>\n",
       "      <td>Queens</td>\n",
       "      <td>36</td>\n",
       "      <td>081</td>\n",
       "      <td>http://www.usps.com/</td>\n",
       "      <td>0.0</td>\n",
       "      <td>0.0</td>\n",
       "      <td>POLYGON ((1038098.252 188138.380, 1038141.936 ...</td>\n",
       "      <td>8765</td>\n",
       "    </tr>\n",
       "    <tr>\n",
       "      <th>1</th>\n",
       "      <td>11213</td>\n",
       "      <td>0</td>\n",
       "      <td>Brooklyn</td>\n",
       "      <td>62426.0</td>\n",
       "      <td>2.963100e+07</td>\n",
       "      <td>NY</td>\n",
       "      <td>Kings</td>\n",
       "      <td>36</td>\n",
       "      <td>047</td>\n",
       "      <td>http://www.usps.com/</td>\n",
       "      <td>0.0</td>\n",
       "      <td>0.0</td>\n",
       "      <td>POLYGON ((1001613.713 186926.440, 1002314.243 ...</td>\n",
       "      <td>44971</td>\n",
       "    </tr>\n",
       "    <tr>\n",
       "      <th>2</th>\n",
       "      <td>11212</td>\n",
       "      <td>0</td>\n",
       "      <td>Brooklyn</td>\n",
       "      <td>83866.0</td>\n",
       "      <td>4.197210e+07</td>\n",
       "      <td>NY</td>\n",
       "      <td>Kings</td>\n",
       "      <td>36</td>\n",
       "      <td>047</td>\n",
       "      <td>http://www.usps.com/</td>\n",
       "      <td>0.0</td>\n",
       "      <td>0.0</td>\n",
       "      <td>POLYGON ((1011174.276 183696.338, 1011373.584 ...</td>\n",
       "      <td>38492</td>\n",
       "    </tr>\n",
       "    <tr>\n",
       "      <th>3</th>\n",
       "      <td>11225</td>\n",
       "      <td>0</td>\n",
       "      <td>Brooklyn</td>\n",
       "      <td>56527.0</td>\n",
       "      <td>2.369863e+07</td>\n",
       "      <td>NY</td>\n",
       "      <td>Kings</td>\n",
       "      <td>36</td>\n",
       "      <td>047</td>\n",
       "      <td>http://www.usps.com/</td>\n",
       "      <td>0.0</td>\n",
       "      <td>0.0</td>\n",
       "      <td>POLYGON ((995908.365 183617.613, 996522.848 18...</td>\n",
       "      <td>53069</td>\n",
       "    </tr>\n",
       "    <tr>\n",
       "      <th>4</th>\n",
       "      <td>11218</td>\n",
       "      <td>0</td>\n",
       "      <td>Brooklyn</td>\n",
       "      <td>72280.0</td>\n",
       "      <td>3.686880e+07</td>\n",
       "      <td>NY</td>\n",
       "      <td>Kings</td>\n",
       "      <td>36</td>\n",
       "      <td>047</td>\n",
       "      <td>http://www.usps.com/</td>\n",
       "      <td>0.0</td>\n",
       "      <td>0.0</td>\n",
       "      <td>POLYGON ((991997.113 176307.496, 992042.798 17...</td>\n",
       "      <td>24623</td>\n",
       "    </tr>\n",
       "  </tbody>\n",
       "</table>\n",
       "</div>"
      ],
      "text/plain": [
       "  ZIPCODE BLDGZIP   PO_NAME  POPULATION          AREA STATE  COUNTY ST_FIPS  \\\n",
       "0   11436       0   Jamaica     18681.0  2.269930e+07    NY  Queens      36   \n",
       "1   11213       0  Brooklyn     62426.0  2.963100e+07    NY   Kings      36   \n",
       "2   11212       0  Brooklyn     83866.0  4.197210e+07    NY   Kings      36   \n",
       "3   11225       0  Brooklyn     56527.0  2.369863e+07    NY   Kings      36   \n",
       "4   11218       0  Brooklyn     72280.0  3.686880e+07    NY   Kings      36   \n",
       "\n",
       "  CTY_FIPS                   URL  SHAPE_AREA  SHAPE_LEN  \\\n",
       "0      081  http://www.usps.com/         0.0        0.0   \n",
       "1      047  http://www.usps.com/         0.0        0.0   \n",
       "2      047  http://www.usps.com/         0.0        0.0   \n",
       "3      047  http://www.usps.com/         0.0        0.0   \n",
       "4      047  http://www.usps.com/         0.0        0.0   \n",
       "\n",
       "                                            geometry  Complaint_Count  \n",
       "0  POLYGON ((1038098.252 188138.380, 1038141.936 ...             8765  \n",
       "1  POLYGON ((1001613.713 186926.440, 1002314.243 ...            44971  \n",
       "2  POLYGON ((1011174.276 183696.338, 1011373.584 ...            38492  \n",
       "3  POLYGON ((995908.365 183617.613, 996522.848 18...            53069  \n",
       "4  POLYGON ((991997.113 176307.496, 992042.798 17...            24623  "
      ]
     },
     "execution_count": 16,
     "metadata": {},
     "output_type": "execute_result"
    }
   ],
   "source": [
    "gdf = gdf.merge(complaints_by_zip, on ='ZIPCODE')\n",
    "gdf.head()"
   ]
  },
  {
   "cell_type": "code",
   "execution_count": 19,
   "id": "69eb4857",
   "metadata": {},
   "outputs": [
    {
     "name": "stdout",
     "output_type": "stream",
     "text": [
      "141795\n",
      "1\n"
     ]
    }
   ],
   "source": [
    "print(gdf['Complaint_Count'].max())\n",
    "print(gdf['Complaint_Count'].min())"
   ]
  },
  {
   "cell_type": "code",
   "execution_count": 17,
   "id": "754466db",
   "metadata": {},
   "outputs": [
    {
     "data": {
      "text/plain": [
       "<AxesSubplot:>"
      ]
     },
     "execution_count": 17,
     "metadata": {},
     "output_type": "execute_result"
    },
    {
     "data": {
      "image/png": "[encoded data removed]",
      "text/plain": [
       "<Figure size 432x288 with 2 Axes>"
      ]
     },
     "metadata": {
      "needs_background": "light"
     },
     "output_type": "display_data"
    }
   ],
   "source": [
    "gdf.plot(\"Complaint_Count\", legend=True)"
   ]
  }
 ],
 "metadata": {
  "kernelspec": {
   "display_name": "Python 3 (ipykernel)",
   "language": "python",
   "name": "python3"
  },
  "language_info": {
   "codemirror_mode": {
    "name": "ipython",
    "version": 3
   },
   "file_extension": ".py",
   "mimetype": "text/x-python",
   "name": "python",
   "nbconvert_exporter": "python",
   "pygments_lexer": "ipython3",
   "version": "3.9.7"
  }
 },
 "nbformat": 4,
 "nbformat_minor": 5
}
